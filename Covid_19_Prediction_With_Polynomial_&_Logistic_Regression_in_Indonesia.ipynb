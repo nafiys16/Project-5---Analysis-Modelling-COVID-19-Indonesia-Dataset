{
  "cells": [
    {
      "metadata": {
        "id": "X_JgXNzBc8F9"
      },
      "cell_type": "markdown",
      "source": [
        "# **Polynomial Regression Covid-19 di Indonesia**\n",
        "\n",
        "- Model ini memberikan gambaran skenario terburuk (worst case scenario) untuk pedoman tindakan mitigasi risiko. <a href=\"#tabel_prediksi\">Angka prediksi model ini </a> digunakan sebagai angka harian yang harus dihindari oleh Indonesia dengan cara bersatu padu, berkolaborasi, gotong royong melakukan tindakan intervensi baik preventif maupun kuratif agar pandemi segera berakhir;\n",
        "\n",
        "- Model lain yang memberikan skenario terbaik (best case scenario) yaitu [model logistik](https://www.kaggle.com/rizkyalifr/logistic-model-for-indonesia-covid-19). Model ini memberikan gambaran optimis bahwa pandemi Covid-19 ini akan berakhir dengan sendirinya (self-healing).\n",
        "\n",
        "Kedua model harus dilihat keduanya dengan prinsip _hopes for the best, prepares for the worst_.\n",
        "Berharap yang terbaik dengan mempersiapkan kemungkinan yang terburuk. \n",
        "Jangan terlalu percaya diri dengan model optimis dan jangan takut dengan kemungkinan terburuk.\n",
        "\n",
        "Sejenak, kita berikan apresiasi setinggi-tingginya bagi para pahlawan yang wafat dalam perjuangan melawan pandemi Covid-19 ini.\n",
        "\n",
        "Mari tetap berharap dengan optimis dan tetap menjaga kewaspadaan dengan segala kerendahan hati, jangan congkak. Perjuangan belum selesai.\n",
        "\n",
        "Mari kobarkan semangat juang para pahlawan dan mohon perkenanan Yang Maha Kuasa agar badai bisa kita hadapi dan lalui. Kiranya TUHAN menolong kita. Amin.\n"
      ]
    },
    {
      "cell_type": "markdown",
      "source": [
        "***Tuesday, 3 May 2022***\n",
        "\n",
        "***Created by Ahmad Nafiys Ismail***"
      ],
      "metadata": {
        "id": "5Vo8EEI4eF0p"
      }
    },
    {
      "metadata": {
        "_uuid": "d629ff2d2480ee46fbb7e2d37f6b5fab8052498a",
        "_cell_guid": "79c7e3d0-c299-4dcb-8224-4455121ee9b0",
        "trusted": true,
        "id": "LxFbFtxvc8GJ"
      },
      "cell_type": "code",
      "source": [
        "import datetime\n",
        "import operator\n",
        "import matplotlib.pyplot as plt\n",
        "from ipywidgets import interact\n",
        "from IPython.display import Markdown as md\n",
        "from datetime import date, timedelta, datetime\n",
        "from numpy import sqrt\n",
        "from pandas import read_csv, to_datetime\n",
        "from prettytable import PrettyTable\n",
        "from sklearn.linear_model import LinearRegression\n",
        "from sklearn.metrics import mean_squared_error, r2_score\n",
        "from sklearn.preprocessing import PolynomialFeatures"
      ],
      "execution_count": null,
      "outputs": []
    },
    {
      "metadata": {
        "id": "PNtOC0yMc8GN"
      },
      "cell_type": "markdown",
      "source": [
        "## DataFrame Akumulasi Kasus Positif Covid-19 di Indonesia"
      ]
    },
    {
      "metadata": {
        "id": "jhEJ71WYc8GO"
      },
      "cell_type": "markdown",
      "source": [
        "Kita buat DataFrame dengan tanggal 1 Maret 2020 sebagai index 0 di Indonesia (satu hari sebelum muncul kasus pertama di Depok)."
      ]
    },
    {
      "metadata": {
        "trusted": true,
        "id": "jwId3NoJc8GP"
      },
      "cell_type": "code",
      "source": [
        "df = read_csv('/kaggle/input/indonesia-coronavirus-cases/confirmed_acc.csv').iloc[39:]\n",
        "df = df.reset_index()\n",
        "\n",
        "# manual update apabila update data utama terlambat\n",
        "last_date = to_datetime(df['date'].iloc[-1], format='%m/%d/%Y')\n",
        "data = [\n",
        "            ['4/11/2020', 3842],\n",
        "            ['4/12/2020', 4241],\n",
        "            ['4/13/2020', 4557],\n",
        "            ['4/14/2020', 4839],\n",
        "            ['4/15/2020', 5136],\n",
        "            ['4/16/2020', 5527],\n",
        "            ['4/17/2020', 5923],\n",
        "            ['4/18/2020', 6248],\n",
        "            ['4/19/2020', 6575],\n",
        "            ['4/20/2020', 6760],\n",
        "            ['4/21/2020', 7135],\n",
        "            ['4/22/2020', 7418],\n",
        "            ['4/23/2020', 7775],\n",
        "            ['4/24/2020', 8211],\n",
        "            ['4/25/2020', 8607],\n",
        "            ['4/26/2020', 8882],\n",
        "            ['4/27/2020', 9096],\n",
        "            ['4/28/2020', 9511],\n",
        "            ['4/29/2020', 9971]\n",
        "        ]\n",
        "\n",
        "for k,v in data:\n",
        "    if datetime.strptime(k, \"%m/%d/%Y\") > last_date:\n",
        "        df = df.append({'date' : k, 'cases' : v} ,ignore_index=True)\n",
        "\n",
        "# update last_date\n",
        "last_date = to_datetime(df['date'].iloc[-1], format='%m/%d/%Y')"
      ],
      "execution_count": null,
      "outputs": []
    },
    {
      "metadata": {
        "trusted": true,
        "id": "Yng6dLWjc8GU",
        "outputId": "d14edc2c-becc-4bfe-fa1a-b76da485f481"
      },
      "cell_type": "code",
      "source": [
        "df['index'] = df.index\n",
        "df.columns = ['indeks', 'tanggal', 'kasus']\n",
        "df"
      ],
      "execution_count": null,
      "outputs": [
        {
          "output_type": "execute_result",
          "execution_count": 3,
          "data": {
            "text/plain": "    indeks    tanggal  kasus\n0        0   3/1/2020      0\n1        1   3/2/2020      2\n2        2   3/3/2020      2\n3        3   3/4/2020      2\n4        4   3/5/2020      2\n5        5   3/6/2020      4\n6        6   3/7/2020      4\n7        7   3/8/2020      6\n8        8   3/9/2020     19\n9        9  3/10/2020     27\n10      10  3/11/2020     34\n11      11  3/12/2020     34\n12      12  3/13/2020     69\n13      13  3/14/2020     96\n14      14  3/15/2020    117\n15      15  3/16/2020    134\n16      16  3/17/2020    172\n17      17  3/18/2020    227\n18      18  3/19/2020    309\n19      19  3/20/2020    369\n20      20  3/21/2020    450\n21      21  3/22/2020    514\n22      22  3/23/2020    579\n23      23  3/24/2020    685\n24      24  3/25/2020    790\n25      25  3/26/2020    893\n26      26  3/27/2020   1046\n27      27  3/28/2020   1155\n28      28  3/29/2020   1285\n29      29  3/30/2020   1414\n30      30  3/31/2020   1528\n31      31   4/1/2020   1677\n32      32   4/2/2020   1790\n33      33   4/3/2020   1986\n34      34   4/4/2020   2092\n35      35   4/5/2020   2273\n36      36   4/6/2020   2491\n37      37   4/7/2020   2738\n38      38   4/8/2020   2956\n39      39   4/9/2020   3293\n40      40  4/10/2020   3512\n41      41  4/11/2020   3842\n42      42  4/12/2020   4241\n43      43  4/13/2020   4557\n44      44  4/14/2020   4839\n45      45  4/15/2020   5136\n46      46  4/16/2020   5527\n47      47  4/17/2020   5923\n48      48  4/18/2020   6248\n49      49  4/19/2020   6575\n50      50  4/20/2020   6760\n51      51  4/21/2020   7135\n52      52  4/22/2020   7418\n53      53  4/23/2020   7775\n54      54  4/24/2020   8211\n55      55  4/25/2020   8607\n56      56  4/26/2020   8882\n57      57  4/27/2020   9096\n58      58  4/28/2020   9511\n59      59  4/29/2020   9971",
            "text/html": "<div>\n<style scoped>\n    .dataframe tbody tr th:only-of-type {\n        vertical-align: middle;\n    }\n\n    .dataframe tbody tr th {\n        vertical-align: top;\n    }\n\n    .dataframe thead th {\n        text-align: right;\n    }\n</style>\n<table border=\"1\" class=\"dataframe\">\n  <thead>\n    <tr style=\"text-align: right;\">\n      <th></th>\n      <th>indeks</th>\n      <th>tanggal</th>\n      <th>kasus</th>\n    </tr>\n  </thead>\n  <tbody>\n    <tr>\n      <th>0</th>\n      <td>0</td>\n      <td>3/1/2020</td>\n      <td>0</td>\n    </tr>\n    <tr>\n      <th>1</th>\n      <td>1</td>\n      <td>3/2/2020</td>\n      <td>2</td>\n    </tr>\n    <tr>\n      <th>2</th>\n      <td>2</td>\n      <td>3/3/2020</td>\n      <td>2</td>\n    </tr>\n    <tr>\n      <th>3</th>\n      <td>3</td>\n      <td>3/4/2020</td>\n      <td>2</td>\n    </tr>\n    <tr>\n      <th>4</th>\n      <td>4</td>\n      <td>3/5/2020</td>\n      <td>2</td>\n    </tr>\n    <tr>\n      <th>5</th>\n      <td>5</td>\n      <td>3/6/2020</td>\n      <td>4</td>\n    </tr>\n    <tr>\n      <th>6</th>\n      <td>6</td>\n      <td>3/7/2020</td>\n      <td>4</td>\n    </tr>\n    <tr>\n      <th>7</th>\n      <td>7</td>\n      <td>3/8/2020</td>\n      <td>6</td>\n    </tr>\n    <tr>\n      <th>8</th>\n      <td>8</td>\n      <td>3/9/2020</td>\n      <td>19</td>\n    </tr>\n    <tr>\n      <th>9</th>\n      <td>9</td>\n      <td>3/10/2020</td>\n      <td>27</td>\n    </tr>\n    <tr>\n      <th>10</th>\n      <td>10</td>\n      <td>3/11/2020</td>\n      <td>34</td>\n    </tr>\n    <tr>\n      <th>11</th>\n      <td>11</td>\n      <td>3/12/2020</td>\n      <td>34</td>\n    </tr>\n    <tr>\n      <th>12</th>\n      <td>12</td>\n      <td>3/13/2020</td>\n      <td>69</td>\n    </tr>\n    <tr>\n      <th>13</th>\n      <td>13</td>\n      <td>3/14/2020</td>\n      <td>96</td>\n    </tr>\n    <tr>\n      <th>14</th>\n      <td>14</td>\n      <td>3/15/2020</td>\n      <td>117</td>\n    </tr>\n    <tr>\n      <th>15</th>\n      <td>15</td>\n      <td>3/16/2020</td>\n      <td>134</td>\n    </tr>\n    <tr>\n      <th>16</th>\n      <td>16</td>\n      <td>3/17/2020</td>\n      <td>172</td>\n    </tr>\n    <tr>\n      <th>17</th>\n      <td>17</td>\n      <td>3/18/2020</td>\n      <td>227</td>\n    </tr>\n    <tr>\n      <th>18</th>\n      <td>18</td>\n      <td>3/19/2020</td>\n      <td>309</td>\n    </tr>\n    <tr>\n      <th>19</th>\n      <td>19</td>\n      <td>3/20/2020</td>\n      <td>369</td>\n    </tr>\n    <tr>\n      <th>20</th>\n      <td>20</td>\n      <td>3/21/2020</td>\n      <td>450</td>\n    </tr>\n    <tr>\n      <th>21</th>\n      <td>21</td>\n      <td>3/22/2020</td>\n      <td>514</td>\n    </tr>\n    <tr>\n      <th>22</th>\n      <td>22</td>\n      <td>3/23/2020</td>\n      <td>579</td>\n    </tr>\n    <tr>\n      <th>23</th>\n      <td>23</td>\n      <td>3/24/2020</td>\n      <td>685</td>\n    </tr>\n    <tr>\n      <th>24</th>\n      <td>24</td>\n      <td>3/25/2020</td>\n      <td>790</td>\n    </tr>\n    <tr>\n      <th>25</th>\n      <td>25</td>\n      <td>3/26/2020</td>\n      <td>893</td>\n    </tr>\n    <tr>\n      <th>26</th>\n      <td>26</td>\n      <td>3/27/2020</td>\n      <td>1046</td>\n    </tr>\n    <tr>\n      <th>27</th>\n      <td>27</td>\n      <td>3/28/2020</td>\n      <td>1155</td>\n    </tr>\n    <tr>\n      <th>28</th>\n      <td>28</td>\n      <td>3/29/2020</td>\n      <td>1285</td>\n    </tr>\n    <tr>\n      <th>29</th>\n      <td>29</td>\n      <td>3/30/2020</td>\n      <td>1414</td>\n    </tr>\n    <tr>\n      <th>30</th>\n      <td>30</td>\n      <td>3/31/2020</td>\n      <td>1528</td>\n    </tr>\n    <tr>\n      <th>31</th>\n      <td>31</td>\n      <td>4/1/2020</td>\n      <td>1677</td>\n    </tr>\n    <tr>\n      <th>32</th>\n      <td>32</td>\n      <td>4/2/2020</td>\n      <td>1790</td>\n    </tr>\n    <tr>\n      <th>33</th>\n      <td>33</td>\n      <td>4/3/2020</td>\n      <td>1986</td>\n    </tr>\n    <tr>\n      <th>34</th>\n      <td>34</td>\n      <td>4/4/2020</td>\n      <td>2092</td>\n    </tr>\n    <tr>\n      <th>35</th>\n      <td>35</td>\n      <td>4/5/2020</td>\n      <td>2273</td>\n    </tr>\n    <tr>\n      <th>36</th>\n      <td>36</td>\n      <td>4/6/2020</td>\n      <td>2491</td>\n    </tr>\n    <tr>\n      <th>37</th>\n      <td>37</td>\n      <td>4/7/2020</td>\n      <td>2738</td>\n    </tr>\n    <tr>\n      <th>38</th>\n      <td>38</td>\n      <td>4/8/2020</td>\n      <td>2956</td>\n    </tr>\n    <tr>\n      <th>39</th>\n      <td>39</td>\n      <td>4/9/2020</td>\n      <td>3293</td>\n    </tr>\n    <tr>\n      <th>40</th>\n      <td>40</td>\n      <td>4/10/2020</td>\n      <td>3512</td>\n    </tr>\n    <tr>\n      <th>41</th>\n      <td>41</td>\n      <td>4/11/2020</td>\n      <td>3842</td>\n    </tr>\n    <tr>\n      <th>42</th>\n      <td>42</td>\n      <td>4/12/2020</td>\n      <td>4241</td>\n    </tr>\n    <tr>\n      <th>43</th>\n      <td>43</td>\n      <td>4/13/2020</td>\n      <td>4557</td>\n    </tr>\n    <tr>\n      <th>44</th>\n      <td>44</td>\n      <td>4/14/2020</td>\n      <td>4839</td>\n    </tr>\n    <tr>\n      <th>45</th>\n      <td>45</td>\n      <td>4/15/2020</td>\n      <td>5136</td>\n    </tr>\n    <tr>\n      <th>46</th>\n      <td>46</td>\n      <td>4/16/2020</td>\n      <td>5527</td>\n    </tr>\n    <tr>\n      <th>47</th>\n      <td>47</td>\n      <td>4/17/2020</td>\n      <td>5923</td>\n    </tr>\n    <tr>\n      <th>48</th>\n      <td>48</td>\n      <td>4/18/2020</td>\n      <td>6248</td>\n    </tr>\n    <tr>\n      <th>49</th>\n      <td>49</td>\n      <td>4/19/2020</td>\n      <td>6575</td>\n    </tr>\n    <tr>\n      <th>50</th>\n      <td>50</td>\n      <td>4/20/2020</td>\n      <td>6760</td>\n    </tr>\n    <tr>\n      <th>51</th>\n      <td>51</td>\n      <td>4/21/2020</td>\n      <td>7135</td>\n    </tr>\n    <tr>\n      <th>52</th>\n      <td>52</td>\n      <td>4/22/2020</td>\n      <td>7418</td>\n    </tr>\n    <tr>\n      <th>53</th>\n      <td>53</td>\n      <td>4/23/2020</td>\n      <td>7775</td>\n    </tr>\n    <tr>\n      <th>54</th>\n      <td>54</td>\n      <td>4/24/2020</td>\n      <td>8211</td>\n    </tr>\n    <tr>\n      <th>55</th>\n      <td>55</td>\n      <td>4/25/2020</td>\n      <td>8607</td>\n    </tr>\n    <tr>\n      <th>56</th>\n      <td>56</td>\n      <td>4/26/2020</td>\n      <td>8882</td>\n    </tr>\n    <tr>\n      <th>57</th>\n      <td>57</td>\n      <td>4/27/2020</td>\n      <td>9096</td>\n    </tr>\n    <tr>\n      <th>58</th>\n      <td>58</td>\n      <td>4/28/2020</td>\n      <td>9511</td>\n    </tr>\n    <tr>\n      <th>59</th>\n      <td>59</td>\n      <td>4/29/2020</td>\n      <td>9971</td>\n    </tr>\n  </tbody>\n</table>\n</div>"
          },
          "metadata": {}
        }
      ]
    },
    {
      "metadata": {
        "id": "UViMRMh-c8GW"
      },
      "cell_type": "markdown",
      "source": [
        "## Model *Polynomial Regression (Degree = 2)*"
      ]
    },
    {
      "metadata": {
        "trusted": true,
        "id": "qShPOR5Yc8GY"
      },
      "cell_type": "code",
      "source": [
        "degree = 2\n",
        "\n",
        "x = df['indeks'].values.reshape(df['indeks'].size,1)\n",
        "y = df['kasus'].values.reshape(df['kasus'].size,1)\n",
        "polynomial_features= PolynomialFeatures(degree=degree)\n",
        "x_poly = polynomial_features.fit_transform(x)\n",
        "\n",
        "model = LinearRegression()\n",
        "model.fit(x_poly, y)\n",
        "y_poly_pred = model.predict(x_poly)\n",
        "\n",
        "rmse = sqrt(mean_squared_error(y,y_poly_pred))\n",
        "r2 = r2_score(y,y_poly_pred)"
      ],
      "execution_count": null,
      "outputs": []
    },
    {
      "metadata": {
        "trusted": true,
        "id": "vOCja3-Ec8GZ"
      },
      "cell_type": "code",
      "source": [
        "def forecast_days_after(n_days_after):\n",
        "    # mengembalikan prediksi model regresi polynomial\n",
        "    model_pred = model.predict(polynomial_features.fit_transform([[n_days_after]]))\n",
        "    return '{:d}'.format(int(round(model_pred[0][0])))\n",
        "\n",
        "start_date = to_datetime(df['tanggal'].iloc[0], format='%m/%d/%Y')\n",
        "last_date = to_datetime(df['tanggal'].iloc[-1], format='%m/%d/%Y')\n",
        "\n",
        "def display_forecast_days_after(n_days_after):\n",
        "    # mengembalikan prediksi model regresi polynomial\n",
        "    end_date = start_date + timedelta(days=n_days_after)\n",
        "    model_pred = model.predict(polynomial_features.fit_transform([[n_days_after]]))\n",
        "    return end_date.strftime(\"%d %B %Y\"), '{:d}'.format(int(round(model_pred[0][0])))\n",
        "\n",
        "def days_passed_timedelta():\n",
        "    # mengembalikan hasil objek timedelta\n",
        "    # berapa hari telah lewat sejak tanggal awal (start_date)\n",
        "    last_date = to_datetime(df['tanggal'].iloc[-1], format='%m/%d/%Y')\n",
        "    return last_date.date() - start_date.date() \n",
        "\n",
        "def date_days_after(n_days_after, date_format=\"%d %B %Y\", **kwargs):\n",
        "    tanggal = start_date + timedelta(days=n_days_after)\n",
        "    return tanggal.date().strftime(date_format)\n",
        "\n",
        "def display_tabel_prediksi(days_after):\n",
        "    # tabel prediksi\n",
        "    days_passed = days_passed_timedelta().days\n",
        "    tabel_prediksi = PrettyTable(['ke-', 'tanggal','prediksi'])\n",
        "    for x in range(days_passed+1,days_after+1):\n",
        "        tabel_prediksi.add_row([x, date_days_after(x, date_format=\"%d-%m-%Y\"), forecast_days_after(x)])\n",
        "    print(tabel_prediksi)\n",
        "    \n",
        "def display_tabel_realisasi(lookback):\n",
        "    # tabel prediksi\n",
        "    days_passed = days_passed_timedelta().days\n",
        "    tabel_realisasi = PrettyTable(['tanggal','pred', 'real', 'p-r'])\n",
        "    for x in range(days_passed, days_passed-lookback+1, -1):\n",
        "        pred_ = int(forecast_days_after(x))\n",
        "        real_ = y[x][0]\n",
        "        eval_ = pred_ - real_    \n",
        "        tabel_realisasi.add_row([date_days_after(x, date_format=\"%d-%m-%Y\"), pred_, real_, eval_])\n",
        "    print(tabel_realisasi)\n",
        "    \n",
        "def display_equation(model):\n",
        "    for coef in model.coef_:\n",
        "        pass\n",
        "    streq = \"$y = \" +str(model.intercept_[0])\n",
        "    for i,c in enumerate(coef):\n",
        "        j = len(coef)-i-1\n",
        "        if abs(c) > c:\n",
        "            sign = \"-\"\n",
        "        else:\n",
        "            sign = \"+\"\n",
        "        if i > 1:\n",
        "            streq += sign +str(abs(c)) + \" \\cdot x^{\"+str(i)+\"}\"\n",
        "        elif i == 1:\n",
        "            streq += sign +str(abs(c)) + \" \\cdot x\"\n",
        "\n",
        "    streq =   streq + \"$\"\n",
        "    return md(streq)\n",
        "\n",
        "def display_widget_forecast_days_after():\n",
        "    print('data terakhir adalah data hari ke-' + str(days_passed_timedelta().days) + \\\n",
        "          ', untuk mendapatkan prediksi ke depan geser slider ke kanan (gunakan tombol panah kanan -> pada keyboard):')\n",
        "    @interact(x=(days_passed_timedelta().days+1, 365,1))\n",
        "    def h(x=days_passed_timedelta().days+1):\n",
        "        tabel_prediksi = PrettyTable(['hari ke-x', 'tanggal','prediksi akumulasi'])\n",
        "        tabel_prediksi.add_row([x, date_days_after(x), forecast_days_after(x)])\n",
        "        print(tabel_prediksi)"
      ],
      "execution_count": null,
      "outputs": []
    },
    {
      "metadata": {
        "trusted": true,
        "id": "3YQyzh10c8Gd"
      },
      "cell_type": "code",
      "source": [
        "# tabel parameter\n",
        "tabel_parameter = PrettyTable(['parameter', 'nilai'])\n",
        "tabel_parameter.add_row(['polynomial\\ndegree', degree])\n",
        "tabel_parameter.add_row(['RMSE','{:.10}'.format(rmse)])\n",
        "tabel_parameter.add_row(['R^2', '{:.10}'.format(r2)])"
      ],
      "execution_count": null,
      "outputs": []
    },
    {
      "metadata": {
        "trusted": true,
        "id": "DqUs04qwc8Ge",
        "outputId": "74b85816-dcf9-4230-f10e-aecf49b85925"
      },
      "cell_type": "code",
      "source": [
        "plt.scatter(x, y, s=10)\n",
        "sort_axis = operator.itemgetter(0)\n",
        "sorted_zip = sorted(zip(x,y_poly_pred), key=sort_axis)\n",
        "x, y_poly_pred = zip(*sorted_zip)\n",
        "plt.title('kumulatif kasus covid-19 di Indonesia\\n')\n",
        "plt.xlabel('\\nhari ke-n sejak 1 Maret 2020')\n",
        "plt.ylabel('jumlah akumulasi\\nkonfirmasi positif')\n",
        "\n",
        "plt.plot(x, y_poly_pred, color='m')\n",
        "plt.show()\n",
        "print(tabel_parameter)\n",
        "display_equation(model)"
      ],
      "execution_count": null,
      "outputs": [
        {
          "output_type": "display_data",
          "data": {
            "text/plain": "<Figure size 432x288 with 1 Axes>",
            "image/png": "[encoded data removed]"
          },
          "metadata": {
            "needs_background": "light"
          }
        },
        {
          "output_type": "stream",
          "text": "+------------+--------------+\n| parameter  |    nilai     |\n+------------+--------------+\n| polynomial |      2       |\n|   degree   |              |\n|    RMSE    | 144.2767888  |\n|    R^2     | 0.9978007711 |\n+------------+--------------+\n",
          "name": "stdout"
        },
        {
          "output_type": "execute_result",
          "execution_count": 7,
          "data": {
            "text/plain": "<IPython.core.display.Markdown object>",
            "text/markdown": "$y = 317.39233209942586-83.4590682246738 \\cdot x+4.211779103143527 \\cdot x^{2}$"
          },
          "metadata": {}
        }
      ]
    },
    {
      "cell_type": "markdown",
      "source": [
        "# **Model Logistic Regression**"
      ],
      "metadata": {
        "id": "ua82hw57dwlp"
      }
    },
    {
      "cell_type": "code",
      "source": [
        ""
      ],
      "metadata": {
        "id": "0oacYhgyd2Xg"
      },
      "execution_count": null,
      "outputs": []
    },
    {
      "cell_type": "code",
      "source": [
        ""
      ],
      "metadata": {
        "id": "fkSw0TSAd2PZ"
      },
      "execution_count": null,
      "outputs": []
    },
    {
      "metadata": {
        "id": "W-eMzQTJc8Gf"
      },
      "cell_type": "markdown",
      "source": [
        "# <a name=\"tabel_prediksi\"> Prediksi Harian </a>"
      ]
    },
    {
      "metadata": {
        "trusted": true,
        "id": "-PsN6SuVc8Gg",
        "outputId": "65cd9a57-3c4c-44a4-f8eb-75bd7cb82635"
      },
      "cell_type": "code",
      "source": [
        "# tabel prediksi hingga hari ke 60\n",
        "display_tabel_prediksi(60)"
      ],
      "execution_count": null,
      "outputs": [
        {
          "output_type": "stream",
          "text": "+-----+------------+----------+\n| ke- |  tanggal   | prediksi |\n+-----+------------+----------+\n|  60 | 30-04-2020 |  10472   |\n+-----+------------+----------+\n",
          "name": "stdout"
        }
      ]
    },
    {
      "metadata": {
        "trusted": true,
        "id": "UFhEJ123c8Gg",
        "outputId": "d2f7f669-6778-4612-fdc3-3689e4b07ae1"
      },
      "cell_type": "code",
      "source": [
        "# widget appear in editor but not displayed when published;\n",
        "# download notebook to display widget;\n",
        "# display_widget_forecast_days_after()\n",
        "\n",
        "display_forecast_days_after(100)"
      ],
      "execution_count": null,
      "outputs": [
        {
          "output_type": "execute_result",
          "execution_count": 9,
          "data": {
            "text/plain": "('09 June 2020', '34089')"
          },
          "metadata": {}
        }
      ]
    },
    {
      "metadata": {
        "id": "aGbM77Dnc8Gh"
      },
      "cell_type": "markdown",
      "source": [
        "# <a name=\"tabel_realisasi\"> Realisasi Harian </a>"
      ]
    },
    {
      "metadata": {
        "trusted": true,
        "id": "g3Thy4cic8Gi",
        "outputId": "c5384695-4e85-43b7-bfc1-0726042247b4"
      },
      "cell_type": "code",
      "source": [
        "# tabel prediksi vs realisasi hingga 21 hari yang lalu\n",
        "# p - r = negatif pertanda situasi lebih buruk daripada perkiraan\n",
        "# p - r = positif pertanda situasi lebih baik daripada perkiraan\n",
        "display_tabel_realisasi(21)"
      ],
      "execution_count": null,
      "outputs": [
        {
          "output_type": "stream",
          "text": "+------------+-------+------+------+\n|  tanggal   |  pred | real | p-r  |\n+------------+-------+------+------+\n| 29-04-2020 | 10055 | 9971 |  84  |\n| 28-04-2020 |  9645 | 9511 | 134  |\n| 27-04-2020 |  9244 | 9096 | 148  |\n| 26-04-2020 |  8852 | 8882 | -30  |\n| 25-04-2020 |  8468 | 8607 | -139 |\n| 24-04-2020 |  8092 | 8211 | -119 |\n| 23-04-2020 |  7725 | 7775 | -50  |\n| 22-04-2020 |  7366 | 7418 | -52  |\n| 21-04-2020 |  7016 | 7135 | -119 |\n| 20-04-2020 |  6674 | 6760 | -86  |\n| 19-04-2020 |  6340 | 6575 | -235 |\n| 18-04-2020 |  6015 | 6248 | -233 |\n| 17-04-2020 |  5699 | 5923 | -224 |\n| 16-04-2020 |  5390 | 5527 | -137 |\n| 15-04-2020 |  5091 | 5136 | -45  |\n| 14-04-2020 |  4799 | 4839 | -40  |\n| 13-04-2020 |  4516 | 4557 | -41  |\n| 12-04-2020 |  4242 | 4241 |  1   |\n| 11-04-2020 |  3976 | 3842 | 134  |\n| 10-04-2020 |  3718 | 3512 | 206  |\n+------------+-------+------+------+\n",
          "name": "stdout"
        }
      ]
    },
    {
      "cell_type": "markdown",
      "source": [
        "# **Referensi Terkait**"
      ],
      "metadata": {
        "id": "put_ZI4PdNrh"
      }
    },
    {
      "cell_type": "markdown",
      "source": [
        "1.   https://www.kaggle.com/code/jansens/polynomial-regression-covid-19-indonesia#-Realisasi-Harian-\n",
        "2.   https://www.kaggle.com/code/rizkyalifr/logistic-model-for-indonesia-covid-19#3.-Membuat-Model-Logistik\n",
        "3.   https://towardsdatascience.com/covid-19-infection-in-italy-mathematical-models-and-predictions-7784b4d7dd8d"
      ],
      "metadata": {
        "id": "flwfxJxHdRsA"
      }
    }
  ],
  "metadata": {
    "kernelspec": {
      "language": "python",
      "display_name": "Python 3",
      "name": "python3"
    },
    "language_info": {
      "pygments_lexer": "ipython3",
      "nbconvert_exporter": "python",
      "version": "3.6.4",
      "file_extension": ".py",
      "codemirror_mode": {
        "name": "ipython",
        "version": 3
      },
      "name": "python",
      "mimetype": "text/x-python"
    },
    "colab": {
      "name": "Covid-19 Prediction With Polynomial & Logistic Regression in Indonesia.ipynb",
      "provenance": [],
      "toc_visible": true
    }
  },
  "nbformat": 4,
  "nbformat_minor": 0
}